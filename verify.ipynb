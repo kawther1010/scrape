{
 "cells": [
  {
   "cell_type": "code",
   "execution_count": 1,
   "metadata": {},
   "outputs": [],
   "source": [
    "import requests\n",
    "from bs4 import BeautifulSoup\n",
    "import csv\n",
    "import random"
   ]
  },
  {
   "cell_type": "code",
   "execution_count": 2,
   "metadata": {},
   "outputs": [],
   "source": [
    "def get_article_infos(article):\n",
    "    type_article = article.contents[3].find('h3').text.strip()\n",
    "    topic_article = article.contents[9].find('h1').text.strip()\n",
    "    arther_article = article.contents[9].find('a').text.strip()\n",
    "    description_article = article.contents[3].find('h2').text.strip()\n",
    "    date_article = article.contents[9].find('span').text.strip()\n",
    "    # Déterminez si l'article est faux ou réel en fonction du type d'article\n",
    "    fake_keywords = [\"كذب\", \"تضليل\", \"غير مؤكد\", \"نظرية المؤامرة\", \"كذب باسم العلم\", \"خطأ\", \"انحياز\", \"تلاعب بالحقائق\", \"عبث\", \"سخرية\", \"خارج السياق\", \"عنوان مضلل\", \"ارباك\"]\n",
    "    classification = \"fake\" if any(keyword in type_article for keyword in fake_keywords) else \"real\"\n",
    "    return [\n",
    "        topic_article,\n",
    "        type_article,\n",
    "        arther_article,\n",
    "        description_article,\n",
    "        date_article,\n",
    "        classification\n",
    "    ]"
   ]
  },
  {
   "cell_type": "code",
   "execution_count": 3,
   "metadata": {},
   "outputs": [],
   "source": [
    "articles_info = []\n",
    "for _ in range(30):  # Générer une séquence de 30 numéros aléatoires\n",
    "    number = random.randint(863, 893)\n",
    "    page = requests.get(f\"https://verify-sy.com/details/{number}\")\n",
    "    if page.status_code == 200:\n",
    "        src = page.content\n",
    "        soup = BeautifulSoup(src, 'lxml')\n",
    "        articles = soup.find_all(\"div\", {'class': 'blog_post_style2 blog_single_div'})\n",
    "        if articles:\n",
    "            article_info = get_article_infos(articles[0])\n",
    "            articles_info.append(article_info)\n",
    "    else:\n",
    "        print(f\"Erreur lors de la récupération de la page pour le numéro {number}\")"
   ]
  },
  {
   "cell_type": "code",
   "execution_count": 4,
   "metadata": {},
   "outputs": [
    {
     "name": "stdout",
     "output_type": "stream",
     "text": [
      "Le fichier CSV a été créé avec succès : verify.csv\n"
     ]
    }
   ],
   "source": [
    "# Trier les articles par sujet (topic)\n",
    "sorted_articles_info = sorted(articles_info, key=lambda x: x[0])  # Trie par le premier élément de chaque liste (sujet)\n",
    "\n",
    "# Écrire les données triées dans un fichier CSV\n",
    "with open('/home/kawther/Documents/S2/NLP/new/BS/datasets/verify.csv', mode='w') as file:\n",
    "    writer = csv.writer(file)\n",
    "    writer.writerow(['Topic d\\'article',' classification', 'Type d\\'article', 'Arther d\\'article', 'Description d\\'article', 'Date de l\\'article', 'fake or real'])\n",
    "    writer.writerows(sorted_articles_info)\n",
    "    print(\"Le fichier CSV a été créé avec succès : verify.csv\")"
   ]
  }
 ],
 "metadata": {
  "kernelspec": {
   "display_name": "Python 3",
   "language": "python",
   "name": "python3"
  },
  "language_info": {
   "codemirror_mode": {
    "name": "ipython",
    "version": 3
   },
   "file_extension": ".py",
   "mimetype": "text/x-python",
   "name": "python",
   "nbconvert_exporter": "python",
   "pygments_lexer": "ipython3",
   "version": "3.11.6"
  }
 },
 "nbformat": 4,
 "nbformat_minor": 2
}
